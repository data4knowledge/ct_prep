{
 "cells": [
  {
   "cell_type": "markdown",
   "id": "372a65ee",
   "metadata": {},
   "source": [
    "Install the necessary python libraries etc."
   ]
  },
  {
   "cell_type": "code",
   "execution_count": 81,
   "id": "95cad875",
   "metadata": {},
   "outputs": [
    {
     "name": "stdout",
     "output_type": "stream",
     "text": [
      "Requirement already satisfied: requests in /Library/Frameworks/Python.framework/Versions/3.10/lib/python3.10/site-packages (2.28.1)\n",
      "Requirement already satisfied: urllib3<1.27,>=1.21.1 in /Library/Frameworks/Python.framework/Versions/3.10/lib/python3.10/site-packages (from requests) (1.26.12)\n",
      "Requirement already satisfied: idna<4,>=2.5 in /Library/Frameworks/Python.framework/Versions/3.10/lib/python3.10/site-packages (from requests) (3.3)\n",
      "Requirement already satisfied: charset-normalizer<3,>=2 in /Library/Frameworks/Python.framework/Versions/3.10/lib/python3.10/site-packages (from requests) (2.1.1)\n",
      "Requirement already satisfied: certifi>=2017.4.17 in /Library/Frameworks/Python.framework/Versions/3.10/lib/python3.10/site-packages (from requests) (2022.5.18.1)\n",
      "\u001b[33mWARNING: There was an error checking the latest version of pip.\u001b[0m\u001b[33m\n",
      "\u001b[0mRequirement already satisfied: neo4j in /Library/Frameworks/Python.framework/Versions/3.10/lib/python3.10/site-packages (5.0.0)\n",
      "Requirement already satisfied: pytz in /Library/Frameworks/Python.framework/Versions/3.10/lib/python3.10/site-packages (from neo4j) (2022.2.1)\n",
      "\u001b[33mWARNING: There was an error checking the latest version of pip.\u001b[0m\u001b[33m\n",
      "\u001b[0m"
     ]
    }
   ],
   "source": [
    "!pip install requests\n",
    "!pip install neo4j\n",
    "\n",
    "from neo4j import GraphDatabase\n"
   ]
  },
  {
   "cell_type": "code",
   "execution_count": 82,
   "id": "e42564cb",
   "metadata": {},
   "outputs": [],
   "source": [
    "  import requests\n",
    "    \n",
    "  class Service():\n",
    "\n",
    "    def __init__(self, url):\n",
    "      self.__api_url = url\n",
    "\n",
    "    def api_get(self, url):\n",
    "      headers =  {\"Content-Type\":\"application/json\"}\n",
    "      response = requests.get(\"%s%s\" % (self.__api_url, url), headers=headers)\n",
    "      return response.json()\n",
    "\n",
    "    def api_post(self, url, body):\n",
    "      headers =  {\"Content-Type\":\"application/json\"}\n",
    "      response = requests.post(\"%s%s\" % (self.__api_url, url), json=body, headers=headers)\n",
    "      return response.json()\n",
    "\n",
    "    def api_put(self, url, body):\n",
    "      headers =  {\"Content-Type\":\"application/json\"}\n",
    "      response = requests.put(\"%s%s\" % (self.__api_url, url), json=body, headers=headers)\n",
    "      return response.json()\n",
    "\n",
    "    def api_delete(self, url):\n",
    "      response = requests.delete(\"%s%s\" % (self.__api_url, url))\n",
    "      return response\n",
    "\n",
    "    def get_resource(self, route, name, uuid):\n",
    "      item = self.api_get(\"/v1/%s/%s\" % (route, uuid))\n",
    "      #print(\"%s: %s\" % (name, item))\n",
    "      return item\n",
    "\n",
    "    def status(self):\n",
    "      response = self.api_get(\"/\")\n",
    "      #print(\"Service:\", response)\n",
    "      return response"
   ]
  },
  {
   "cell_type": "markdown",
   "id": "3292bfa3",
   "metadata": {},
   "source": [
    "Code for the BC microservice"
   ]
  },
  {
   "cell_type": "code",
   "execution_count": 83,
   "id": "cdf74fd7",
   "metadata": {},
   "outputs": [],
   "source": [
    "import requests\n",
    "\n",
    "class CTService(Service):\n",
    "\n",
    "  def __init__(self, url):\n",
    "      super().__init__(url)\n",
    "\n",
    "  def find_cl(self, cl):\n",
    "    return self.api_get(\"/v1/codeLists?identifier=%s\" % (cl))\n",
    "\n",
    "  def get_cl(self, uuid):\n",
    "    return self.api_get(\"/v1/codeLists/%s\" % (uuid))\n",
    "\n",
    "  def add_term(self, cl_uuid, term):\n",
    "    return self.api_post(\"/v1/codeLists/%s/terms\" % (cl_uuid), body=term)\n"
   ]
  },
  {
   "cell_type": "code",
   "execution_count": 84,
   "id": "ca419842",
   "metadata": {},
   "outputs": [],
   "source": [
    "ct = CTService(\"http://localhost:8012\")\n"
   ]
  },
  {
   "cell_type": "code",
   "execution_count": 85,
   "id": "485fc688",
   "metadata": {},
   "outputs": [
    {
     "data": {
      "text/plain": [
       "{'system_name': 'd4k CT Microservice',\n",
       " 'version': '0.6',\n",
       " 'environment': 'development'}"
      ]
     },
     "execution_count": 85,
     "metadata": {},
     "output_type": "execute_result"
    }
   ],
   "source": [
    "ct.status()"
   ]
  },
  {
   "cell_type": "code",
   "execution_count": 86,
   "id": "2358d391",
   "metadata": {},
   "outputs": [
    {
     "name": "stdout",
     "output_type": "stream",
     "text": [
      "d6b4c573-735a-411f-add4-977ad6779fb8\n"
     ]
    }
   ],
   "source": [
    "result = ct.find_cl(\"D000001\")\n",
    "ct_uuid = result['uuid']\n",
    "# term = {\n",
    "#   'identifier': \"D100006\",\n",
    "#   'definition': \"\",\n",
    "#   'notation': \"DATE OF BIRTH\",\n",
    "#   'pref_label': \"Date of Birth\",\n",
    "#   'alt_label': [],\n",
    "#   'label': \"Date of Birth\"\n",
    "# }\n",
    "# result = ct.add_term(ct_uuid, term)\n",
    "# print(result)\n",
    "# term = {\n",
    "#   'identifier': \"D100007\",\n",
    "#   'definition': \"\",\n",
    "#   'notation': \"INCLCRIT\",\n",
    "#   'pref_label': \"Inclusion Criteria\",\n",
    "#   'alt_label': [],\n",
    "#   'label': \"Inclusion Criteria\"\n",
    "# }\n",
    "# result = ct.add_term(ct_uuid, term)\n",
    "# print(result)\n",
    "# term = {\n",
    "#   'identifier': \"D100008\",\n",
    "#   'definition': \"\",\n",
    "#   'notation': \"EXCLCRIT\",\n",
    "#   'pref_label': \"Exclusion Criteria\",\n",
    "#   'alt_label': [],\n",
    "#   'label': \"Exclusion Criteria\"\n",
    "# }\n",
    "# result = ct.add_term(ct_uuid, term)\n",
    "# print(result)\n",
    "# term = {\n",
    "#   'identifier': \"D100009\",\n",
    "#   'definition': \"\",\n",
    "#   'notation': \"ENROLLMENT\",\n",
    "#   'pref_label': \"Enrollment Date\",\n",
    "#   'alt_label': [],\n",
    "#   'label': \"Enrollment Date\"\n",
    "# }\n",
    "# result = ct.add_term(ct_uuid, term)\n",
    "# print(result)\n",
    "# term = {\n",
    "#   'identifier': \"D100010\",\n",
    "#   'definition': \"\",\n",
    "#   'notation': \"MEDHIST\",\n",
    "#   'pref_label': \"Medical History\",\n",
    "#   'alt_label': [],\n",
    "#   'label': \"Medical History\"\n",
    "# }\n",
    "# result = ct.add_term(ct_uuid, term)\n",
    "# print(result)\n"
   ]
  },
  {
   "cell_type": "code",
   "execution_count": 87,
   "id": "0776649b",
   "metadata": {},
   "outputs": [
    {
     "name": "stdout",
     "output_type": "stream",
     "text": [
      "{'uuid': '8e6ebb47-5b6a-4330-800c-1995434e5633', 'uri': 'dataset/cdisc/ct/sc/2022-09-01/test-codes/D000001', 'label': 'Extra test codes', 'identifier': 'D000001', 'semantic_version': '1.0.0', 'version_label': '2022-09-01', 'owner': 'd4k', 'narrower': [{'pref_label': 'Age', 'identifier': 'D100000', 'alt_label': '', 'notation': 'AGE', 'definition': '', 'id': 1591860, 'label': 'Age', 'extensible': 'False', 'uuid': '930e54eb-4b53-4445-a0a3-c53221ca36c9', 'uri': 'dataset/cdisc/ct/sc/2022-09-01/test-codes/D000001/D100000'}, {'pref_label': 'Race', 'identifier': 'D100001', 'alt_label': '', 'notation': 'RACE', 'definition': '', 'id': 1591861, 'label': 'Race', 'extensible': 'False', 'uuid': '4219bc8d-0941-4886-a1dc-977ac3abe479', 'uri': 'dataset/cdisc/ct/sc/2022-09-01/test-codes/D000001/D100001'}, {'pref_label': 'Sex', 'identifier': 'D100002', 'alt_label': '', 'notation': 'SEX', 'definition': '', 'id': 1591862, 'label': 'Sex', 'extensible': 'False', 'uuid': 'a8f904e8-ba06-4cf1-9a21-4dde5db8a33d', 'uri': 'dataset/cdisc/ct/sc/2022-09-01/test-codes/D000001/D100002'}, {'identifier': 'D100003', 'pref_label': 'Ethnicity', 'alt_label': '', 'notation': 'ETHNIC', 'definition': '', 'id': 1591863, 'label': 'Ethnicity', 'extensible': 'False', 'uuid': 'ae6c8b2c-68c0-4043-82b9-70e7f8c4383f', 'uri': 'dataset/cdisc/ct/sc/2022-09-01/test-codes/D000001/D100003'}, {'identifier': 'D100004', 'pref_label': 'Adverse Event', 'alt_label': '', 'notation': 'ADVERSE EVENT', 'definition': '', 'id': 1591864, 'label': 'Adverse Event', 'extensible': 'False', 'uuid': 'b75269ed-a61f-4b60-b577-0ddf310d6f90', 'uri': 'dataset/cdisc/ct/sc/2022-09-01/test-codes/D000001/D100004'}, {'identifier': 'D100005', 'pref_label': 'Drug Exposure', 'alt_label': '', 'notation': 'DRUG EXPOSURE', 'definition': '', 'id': 1591865, 'label': 'Drug Exposure', 'extensible': 'False', 'uuid': 'cdcdc44d-b433-4237-b0bf-b2882fdd6bd6', 'uri': 'dataset/cdisc/ct/sc/2022-09-01/test-codes/D000001/D100005'}, {'identifier': 'D100006', 'pref_label': 'Date of Birth', 'alt_label': '[]', 'notation': 'DATE OF BIRTH', 'definition': '', 'uri': 'dataset/cdisc/ct/sc/2022-09-01/test-codes/D000001/D100006', 'uuid': '4fa75323-1e7b-4f3b-9fb1-028e4a68b2d0'}, {'pref_label': 'Inclusion Criteria', 'identifier': 'D100007', 'alt_label': '[]', 'notation': 'INCLCRIT', 'definition': '', 'uuid': '94f2ba03-2922-4104-911a-dc9169e7c87a', 'uri': 'dataset/cdisc/ct/sc/2022-09-01/test-codes/D000001/D100007'}, {'pref_label': 'Exclusion Criteria', 'identifier': 'D100008', 'alt_label': '[]', 'notation': 'EXCLCRIT', 'definition': '', 'uuid': 'a8371e79-b9ff-4910-ad16-0e5197f360c2', 'uri': 'dataset/cdisc/ct/sc/2022-09-01/test-codes/D000001/D100008'}, {'pref_label': 'Enrollment Date', 'identifier': 'D100009', 'alt_label': '[]', 'notation': 'ENROLLMENT', 'definition': '', 'uuid': '6fb11633-c171-491a-ae6c-c314608d761b', 'uri': 'dataset/cdisc/ct/sc/2022-09-01/test-codes/D000001/D100009'}, {'pref_label': 'Medical History', 'identifier': 'D100010', 'alt_label': '[]', 'notation': 'MEDHIST', 'definition': '', 'uuid': 'd6b4c573-735a-411f-add4-977ad6779fb8', 'uri': 'dataset/cdisc/ct/sc/2022-09-01/test-codes/D000001/D100010'}]}\n"
     ]
    }
   ],
   "source": [
    "result = ct.find_cl(\"D000001\")\n",
    "ct_uuid = result['uuid']\n",
    "result = ct.get_cl(ct_uuid)\n",
    "print(result)"
   ]
  }
 ],
 "metadata": {
  "kernelspec": {
   "display_name": "Python 3 (ipykernel)",
   "language": "python",
   "name": "python3"
  },
  "language_info": {
   "codemirror_mode": {
    "name": "ipython",
    "version": 3
   },
   "file_extension": ".py",
   "mimetype": "text/x-python",
   "name": "python",
   "nbconvert_exporter": "python",
   "pygments_lexer": "ipython3",
   "version": "3.10.1"
  },
  "vscode": {
   "interpreter": {
    "hash": "aee8b7b246df8f9039afb4144a1f6fd8d2ca17a180786b69acc140d282b71a49"
   }
  }
 },
 "nbformat": 4,
 "nbformat_minor": 5
}
